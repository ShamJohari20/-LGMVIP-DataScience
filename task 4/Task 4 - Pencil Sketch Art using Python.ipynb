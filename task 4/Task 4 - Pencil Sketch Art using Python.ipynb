{
 "cells": [
  {
   "cell_type": "markdown",
   "id": "a63da6eb",
   "metadata": {},
   "source": [
    "# LETS GROW MORE - Virtual Internship 2023\n",
    " \n",
    "## Name : SHAM AMBADAS JOHARI\n",
    "## Data Science Intern\n",
    "\n",
    "\n",
    "\n",
    "### TASK 4 -  Image to Pencil Sketch with Python"
   ]
  },
  {
   "cell_type": "markdown",
   "id": "25853aea",
   "metadata": {},
   "source": [
    "## Steps involved in this project is\n",
    "\n",
    "1 import important Libraries\n",
    "\n",
    "2 Reading the image.\n",
    "\n",
    "3 Converting the negative image\n",
    "\n",
    "4 Converting the negative image into a blurry image.\n",
    "\n",
    "5 Creating a pencil sketch image.\n",
    "\n",
    "6 Make a comparison between original image and sketch image.\n"
   ]
  },
  {
   "cell_type": "markdown",
   "id": "a29abffe",
   "metadata": {},
   "source": [
    "## Import important libraries."
   ]
  },
  {
   "cell_type": "code",
   "execution_count": 10,
   "id": "4f6209ff",
   "metadata": {},
   "outputs": [],
   "source": [
    "import cv2\n"
   ]
  },
  {
   "cell_type": "markdown",
   "id": "4598b50f",
   "metadata": {},
   "source": [
    "# Reading the Image"
   ]
  },
  {
   "cell_type": "code",
   "execution_count": 14,
   "id": "97901ecf",
   "metadata": {},
   "outputs": [
    {
     "data": {
      "text/plain": [
       "-1"
      ]
     },
     "execution_count": 14,
     "metadata": {},
     "output_type": "execute_result"
    }
   ],
   "source": [
    "image = cv2.imread(\"sham.jpg\")\n",
    "image = cv2.resize(image,(900,800))\n",
    "cv2.imshow(\"sham\", image)\n",
    "cv2.waitKey(0)"
   ]
  },
  {
   "cell_type": "markdown",
   "id": "b682288f",
   "metadata": {},
   "source": [
    "<img src=\"read_image.png\" style=\"width:900px;height:800px\" title=\" Original image\">"
   ]
  },
  {
   "cell_type": "markdown",
   "id": "e7fd4a50",
   "metadata": {},
   "source": [
    "# Converting the negative image "
   ]
  },
  {
   "cell_type": "code",
   "execution_count": 15,
   "id": "9d2f50f5",
   "metadata": {},
   "outputs": [
    {
     "data": {
      "text/plain": [
       "-1"
      ]
     },
     "execution_count": 15,
     "metadata": {},
     "output_type": "execute_result"
    }
   ],
   "source": [
    "gray_image = cv2.cvtColor(image, cv2.COLOR_BGR2GRAY)\n",
    "cv2.imshow(\"New sham (negative image)\", gray_image)\n",
    "cv2.waitKey(0)"
   ]
  },
  {
   "cell_type": "markdown",
   "id": "7f59ee91",
   "metadata": {},
   "source": [
    "<img src=\"black and white.png\" style=\"width:900px;height:800px\" title=\" negative image\">"
   ]
  },
  {
   "cell_type": "markdown",
   "id": "2b31894b",
   "metadata": {},
   "source": [
    "# Converting the negative image to Blury image"
   ]
  },
  {
   "cell_type": "code",
   "execution_count": 16,
   "id": "e095b58c",
   "metadata": {},
   "outputs": [
    {
     "data": {
      "text/plain": [
       "-1"
      ]
     },
     "execution_count": 16,
     "metadata": {},
     "output_type": "execute_result"
    }
   ],
   "source": [
    "inverted_image = 255 - gray_image\n",
    "cv2.imshow(\"Inverted Blury image\", inverted_image)\n",
    "cv2.waitKey()"
   ]
  },
  {
   "cell_type": "markdown",
   "id": "52e8ff0b",
   "metadata": {},
   "source": [
    "<img src=\"Blurry image.png\" style=\"width:900px;height:800px\" title=\" Blury image\">"
   ]
  },
  {
   "cell_type": "code",
   "execution_count": 6,
   "id": "03d274aa",
   "metadata": {},
   "outputs": [],
   "source": [
    "blurred = cv2.GaussianBlur(inverted_image, (21, 21), 0)"
   ]
  },
  {
   "cell_type": "markdown",
   "id": "d39d0c36",
   "metadata": {},
   "source": [
    "# Finally creating the Pencil sketch image by mixing the grayscale image with the inverted blurry image."
   ]
  },
  {
   "cell_type": "code",
   "execution_count": 17,
   "id": "f3ca96f2",
   "metadata": {},
   "outputs": [
    {
     "data": {
      "text/plain": [
       "-1"
      ]
     },
     "execution_count": 17,
     "metadata": {},
     "output_type": "execute_result"
    }
   ],
   "source": [
    "inverted_blurred = 255 - blurred\n",
    "pencil_sketch = cv2.divide(gray_image, inverted_blurred, scale=256.0)\n",
    "cv2.imshow(\"Sketch\", pencil_sketch)\n",
    "cv2.waitKey(0)"
   ]
  },
  {
   "cell_type": "markdown",
   "id": "df7b99d1",
   "metadata": {},
   "source": [
    "<img src=\"sckech image.png\" style=\"width:900px;height:800px\" title=\" sketch image\">"
   ]
  },
  {
   "cell_type": "markdown",
   "id": "8fd8632a",
   "metadata": {},
   "source": [
    "# comparing original image and pencil sketch"
   ]
  },
  {
   "cell_type": "code",
   "execution_count": 18,
   "id": "3ff18437",
   "metadata": {},
   "outputs": [
    {
     "data": {
      "text/plain": [
       "-1"
      ]
     },
     "execution_count": 18,
     "metadata": {},
     "output_type": "execute_result"
    }
   ],
   "source": [
    "cv2.imshow(\"original image\", image)\n",
    "cv2.imshow(\"pencil sketch\", pencil_sketch)\n",
    "cv2.waitKey(0)"
   ]
  },
  {
   "cell_type": "markdown",
   "id": "81208154",
   "metadata": {},
   "source": [
    "<img src=\"comparison.jpg\" style=\"width:900px;height:800px\" title=\" Original image\">"
   ]
  },
  {
   "cell_type": "markdown",
   "id": "636dfcf9",
   "metadata": {},
   "source": [
    "## Thus i have Successfully converted Original image to pencil sketch."
   ]
  },
  {
   "cell_type": "markdown",
   "id": "1c38b35e",
   "metadata": {},
   "source": [
    "## Thank you."
   ]
  },
  {
   "cell_type": "code",
   "execution_count": null,
   "id": "42c40609",
   "metadata": {},
   "outputs": [],
   "source": []
  }
 ],
 "metadata": {
  "kernelspec": {
   "display_name": "Python 3 (ipykernel)",
   "language": "python",
   "name": "python3"
  },
  "language_info": {
   "codemirror_mode": {
    "name": "ipython",
    "version": 3
   },
   "file_extension": ".py",
   "mimetype": "text/x-python",
   "name": "python",
   "nbconvert_exporter": "python",
   "pygments_lexer": "ipython3",
   "version": "3.9.13"
  }
 },
 "nbformat": 4,
 "nbformat_minor": 5
}
